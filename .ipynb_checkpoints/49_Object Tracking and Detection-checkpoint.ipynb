{
 "cells": [
  {
   "cell_type": "markdown",
   "id": "fe26ad31-40c2-4ac0-80d0-7a2ecb8272db",
   "metadata": {},
   "source": [
    "**49_Object Tracking and Detection**"
   ]
  },
  {
   "cell_type": "code",
   "execution_count": 16,
   "id": "09019533-2a7a-4954-ae89-be0e3a360b04",
   "metadata": {},
   "outputs": [],
   "source": [
    "import cv2\n",
    "import numpy as np"
   ]
  },
  {
   "cell_type": "code",
   "execution_count": 5,
   "id": "a0b34595-200a-4567-af13-556be85017c6",
   "metadata": {},
   "outputs": [],
   "source": [
    "#Play Video\n",
    "cap = cv2.VideoCapture(r\"C:\\Users\\hp\\Documents\\jupyter\\OpenCV by WsCube Tech\\Videos\\A man running - side view - Animation reference [w_g1i6tzNGk].f313.webm\")\n",
    "\n",
    "while True:\n",
    "    r,frame = cap.read()\n",
    "    if r == True:\n",
    "        frame = cv2.resize(frame,(500,400))\n",
    "        cv2.imshow(\"Video\",frame)\n",
    "        if cv2.waitKey(25) & 0xff == ord(\"p\"):\n",
    "            break\n",
    "\n",
    "    else:\n",
    "        break\n",
    "\n",
    "cap.release()\n",
    "cv2.destroyAllWindows()"
   ]
  },
  {
   "cell_type": "code",
   "execution_count": 45,
   "id": "89f83e6b-5048-4a75-8685-486252a26012",
   "metadata": {},
   "outputs": [],
   "source": [
    "#ROI\n",
    "cap = cv2.VideoCapture(r\"C:\\Users\\hp\\Documents\\jupyter\\OpenCV by WsCube Tech\\Videos\\A man running - side view - Animation reference [w_g1i6tzNGk].f313.webm\")\n",
    "\n",
    "#Capture image from Video:\n",
    "r,f = cap.read()\n",
    "x, y, w, h = 200, 100, 150, 500\n",
    "\n",
    "t = (x,y,w,h)\n",
    "roi = f[y:y+h,x:x+w]\n",
    "roi = cv2.resize(roi,(500,600))\n",
    "\n",
    "#For Object Detection\n",
    "#Convert HSV\n",
    "hsv_roi = cv2.cvtColor(roi,cv2.COLOR_BGR2HSV)\n",
    "\n",
    "mask = cv2.inRange(hsv_roi,np.array((0.,60.,32.)),np.array((180.,255.,255.)))\n",
    "\n",
    "#Histogram\n",
    "roi_hist = cv2.calcHist([hsv_roi],[0],mask,[180],[0,180])\n",
    "\n",
    "#Normalize data\n",
    "cv2.normalize(roi_hist,roi_hist,0,255,cv2.NORM_MINMAX)\n",
    "\n",
    "#Data termination point\n",
    "tr = (cv2.TERM_CRITERIA_EPS | cv2.TERM_CRITERIA_COUNT, 10,1)\n",
    "\n",
    "#Find roi\n",
    "#cv2.imshow(\"Test\",roi)\n",
    "\n",
    "while True:\n",
    "    r,frame = cap.read()\n",
    "    if r == True:\n",
    "        frame = cv2.resize(frame,(500,600))\n",
    "        \n",
    "        hsv_f = cv2.cvtColor(frame,cv2.COLOR_BGR2HSV)\n",
    "        \n",
    "        #Search\n",
    "        d = cv2.calcBackProject([hsv_f],[0],roi_hist,[0,180],1)\n",
    "        \n",
    "        #Shift\n",
    "        r,tp = cv2.meanShift(d,t,tr)\n",
    "\n",
    "        x,y,w,h = tp\n",
    "\n",
    "        final = cv2.rectangle(frame,(x,y),(x+w,y+h),(0,0,255),4)\n",
    "        \n",
    "        cv2.imshow(\"Final\",final)\n",
    "        if cv2.waitKey(25) & 0xff == ord(\"p\"):\n",
    "            break\n",
    "\n",
    "    else:\n",
    "        break\n",
    "\n",
    "cap.release()\n",
    "cv2.destroyAllWindows()"
   ]
  },
  {
   "cell_type": "code",
   "execution_count": 1,
   "id": "1fd4c173-b911-4d6e-86a9-2f722d563b39",
   "metadata": {},
   "outputs": [],
   "source": [
    "x,y = 674,168\n",
    "w =975-674\n",
    "h = 599-168"
   ]
  },
  {
   "cell_type": "code",
   "execution_count": 2,
   "id": "00e61cde-ffbc-49d9-ad5d-c91d55213ffa",
   "metadata": {},
   "outputs": [
    {
     "data": {
      "text/plain": [
       "(674, 168, 301, 431)"
      ]
     },
     "execution_count": 2,
     "metadata": {},
     "output_type": "execute_result"
    }
   ],
   "source": [
    "x,y,w,h"
   ]
  },
  {
   "cell_type": "code",
   "execution_count": 22,
   "id": "e9eb4026-7738-440f-8086-0ce1126daeb7",
   "metadata": {},
   "outputs": [],
   "source": [
    "x,y = 275,105\n",
    "w =375-275\n",
    "h = 312-105"
   ]
  },
  {
   "cell_type": "code",
   "execution_count": 23,
   "id": "9e74d29c-54ae-4a8e-a5c4-a19710289866",
   "metadata": {},
   "outputs": [
    {
     "data": {
      "text/plain": [
       "(275, 105, 100, 207)"
      ]
     },
     "execution_count": 23,
     "metadata": {},
     "output_type": "execute_result"
    }
   ],
   "source": [
    "x,y,w,h"
   ]
  },
  {
   "cell_type": "code",
   "execution_count": null,
   "id": "49b1f180-de9b-4864-80ab-3dc0f42493a5",
   "metadata": {},
   "outputs": [],
   "source": []
  }
 ],
 "metadata": {
  "kernelspec": {
   "display_name": "Python 3 (ipykernel)",
   "language": "python",
   "name": "python3"
  },
  "language_info": {
   "codemirror_mode": {
    "name": "ipython",
    "version": 3
   },
   "file_extension": ".py",
   "mimetype": "text/x-python",
   "name": "python",
   "nbconvert_exporter": "python",
   "pygments_lexer": "ipython3",
   "version": "3.12.4"
  }
 },
 "nbformat": 4,
 "nbformat_minor": 5
}
